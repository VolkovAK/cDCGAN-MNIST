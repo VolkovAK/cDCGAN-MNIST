{
 "cells": [
  {
   "cell_type": "code",
   "execution_count": 1,
   "metadata": {},
   "outputs": [
    {
     "name": "stderr",
     "output_type": "stream",
     "text": [
      "Using TensorFlow backend.\n"
     ]
    }
   ],
   "source": [
    "from sklearn import preprocessing\n",
    "import numpy as np\n",
    "from keras.datasets import mnist\n",
    "from keras.models import Model, load_model\n",
    "from keras.layers import Dense, Reshape, Flatten, Activation, Input, Concatenate\n",
    "from keras.layers import Conv2D, Conv2DTranspose\n",
    "from keras.layers.advanced_activations import LeakyReLU, ReLU\n",
    "from keras.layers import BatchNormalization\n",
    "from keras.optimizers import Adam\n",
    "from keras.utils import to_categorical\n",
    "\n",
    "import matplotlib.pyplot as plt"
   ]
  },
  {
   "cell_type": "code",
   "execution_count": 2,
   "metadata": {},
   "outputs": [
    {
     "name": "stderr",
     "output_type": "stream",
     "text": [
      "/usr/local/lib/python3.5/dist-packages/sklearn/utils/validation.py:590: DataConversionWarning: Data with input dtype uint8 was converted to float64 by MinMaxScaler.\n",
      "  warnings.warn(msg, DataConversionWarning)\n"
     ]
    }
   ],
   "source": [
    "(x_train, y_train), (x_test, y_test) = mnist.load_data()\n",
    "x_train = np.concatenate((x_train, x_test), axis=0)\n",
    "y_train = np.concatenate((y_train, y_test), axis=0)\n",
    "\n",
    "prep = preprocessing.MinMaxScaler(feature_range=(-1, 1))\n",
    "X_temp = prep.fit_transform(x_train.reshape((x_train.shape[0], -1)))\n",
    "X_train = X_temp.reshape((X_temp.shape[0], 28, 28, 1))\n"
   ]
  },
  {
   "cell_type": "code",
   "execution_count": 3,
   "metadata": {},
   "outputs": [],
   "source": [
    "MyOptimizer = Adam(lr=0.0002, beta_1=0.5, decay=8e-8)"
   ]
  },
  {
   "cell_type": "code",
   "execution_count": 4,
   "metadata": {},
   "outputs": [],
   "source": [
    "def Generator(input_layer, condition):\n",
    "    hid = Concatenate()([input_layer, condition])\n",
    "    \n",
    "    hid = Dense(8 * 14 * 14)(hid)    \n",
    "    hid = BatchNormalization(momentum=0.9)(hid)\n",
    "    hid = LeakyReLU(alpha=0.1)(hid)\n",
    "    hid = Reshape((14, 14, 8))(hid)\n",
    "\n",
    "    hid = Conv2D(128, kernel_size=5, strides=1,padding='same')(hid)\n",
    "    hid = BatchNormalization(momentum=0.9)(hid)    \n",
    "    hid = LeakyReLU(alpha=0.1)(hid)\n",
    "\n",
    "    hid = Conv2DTranspose(128, 4, strides=2, padding='same')(hid)\n",
    "    hid = BatchNormalization(momentum=0.9)(hid)\n",
    "    hid = LeakyReLU(alpha=0.1)(hid)\n",
    "\n",
    "    hid = Conv2D(128, kernel_size=5, strides=1, padding='same')(hid)\n",
    "    hid = BatchNormalization(momentum=0.9)(hid)\n",
    "    hid = LeakyReLU(alpha=0.1)(hid)\n",
    "\n",
    "    hid = Conv2D(1, kernel_size=5, strides=1, padding=\"same\")(hid)\n",
    "    out = Activation(\"tanh\")(hid)\n",
    "\n",
    "    model = Model(inputs=[input_layer, condition], outputs=out)\n",
    "\n",
    "    return model, out\n"
   ]
  },
  {
   "cell_type": "code",
   "execution_count": 5,
   "metadata": {},
   "outputs": [],
   "source": [
    "input_layer = Input(shape=(10,))\n",
    "dis_condition_input = Input(shape=(10,))\n",
    "generator, gen_out = Generator(input_layer, dis_condition_input)\n",
    "generator.compile(loss='categorical_crossentropy', optimizer=MyOptimizer)\n",
    "\n",
    "# generator.summary()"
   ]
  },
  {
   "cell_type": "code",
   "execution_count": 6,
   "metadata": {},
   "outputs": [],
   "source": [
    "def Discriminator(input_layer, condition):\n",
    "    hid = Conv2D(128, kernel_size=3, strides=1, padding='same')(input_layer)\n",
    "    hid = BatchNormalization(momentum=0.9)(hid)\n",
    "    hid = LeakyReLU(alpha=0.1)(hid)\n",
    "\n",
    "    hid = Conv2D(128, kernel_size=4, strides=2, padding='same')(hid)\n",
    "    hid = BatchNormalization(momentum=0.9)(hid)\n",
    "    hid = LeakyReLU(alpha=0.1)(hid)\n",
    "\n",
    "    hid = Conv2D(128, kernel_size=4, strides=2, padding='same')(hid)\n",
    "    hid = BatchNormalization(momentum=0.9)(hid)\n",
    "    hid = LeakyReLU(alpha=0.1)(hid)\n",
    "\n",
    "    hid = Conv2D(128, kernel_size=5, strides=1, padding='same')(hid)\n",
    "    hid = BatchNormalization(momentum=0.9)(hid)\n",
    "    hid = LeakyReLU(alpha=0.1)(hid)\n",
    "    hid = Flatten()(hid)\n",
    "    hid = Dense(20, activation='relu')(hid)\n",
    "\n",
    "    merged_layer = Concatenate()([hid, condition])\n",
    "    out = Dense(20, activation='softmax')(merged_layer)\n",
    "    mdl = Model(inputs=[input_layer, condition], outputs=out)\n",
    "\n",
    "    return mdl, out"
   ]
  },
  {
   "cell_type": "code",
   "execution_count": 7,
   "metadata": {},
   "outputs": [],
   "source": [
    "dis_img_input = Input(shape=(28,28,1))\n",
    "dis_condition_input = Input(shape=(10,))\n",
    "discriminator, disc_out = Discriminator(dis_img_input, dis_condition_input)\n",
    "discriminator.compile(optimizer=MyOptimizer, loss='categorical_crossentropy')\n",
    "# discriminator.summary()"
   ]
  },
  {
   "cell_type": "code",
   "execution_count": 8,
   "metadata": {},
   "outputs": [],
   "source": [
    "def GenDis(gen, dis, condition_input):\n",
    "    dis.trainable = False\n",
    "    \n",
    "    gan_input = Input(shape=(10,))\n",
    "    x = gen([gan_input, condition_input])\n",
    "    gan_out = dis([x, condition_input])\n",
    "    gan = Model(inputs=[gan_input, condition_input], output=gan_out)\n",
    "    \n",
    "    return gan, gan_out"
   ]
  },
  {
   "cell_type": "code",
   "execution_count": 9,
   "metadata": {},
   "outputs": [
    {
     "name": "stderr",
     "output_type": "stream",
     "text": [
      "/usr/local/lib/python3.5/dist-packages/ipykernel_launcher.py:7: UserWarning: Update your `Model` call to the Keras 2 API: `Model(outputs=Tensor(\"mo..., inputs=[<tf.Tenso...)`\n",
      "  import sys\n"
     ]
    }
   ],
   "source": [
    "condition_input = Input(shape=(10,))\n",
    "gendis, gan_out = GenDis(generator, discriminator, condition_input)\n",
    "gendis.compile(loss='categorical_crossentropy', optimizer=MyOptimizer)\n",
    "\n",
    "# gendis.summary()"
   ]
  },
  {
   "cell_type": "code",
   "execution_count": 10,
   "metadata": {
    "scrolled": true
   },
   "outputs": [
    {
     "name": "stderr",
     "output_type": "stream",
     "text": [
      "/usr/local/lib/python3.5/dist-packages/keras/engine/training.py:490: UserWarning: Discrepancy between trainable weights and collected trainable weights, did you set `model.trainable` without calling `model.compile` after ?\n",
      "  'Discrepancy between trainable weights and collected trainable'\n"
     ]
    },
    {
     "name": "stdout",
     "output_type": "stream",
     "text": [
      "epoch: 0, [Discriminator :: d_loss: 0.324576], [ Generator :: loss: 0.315276]\n",
      "epoch: 10, [Discriminator :: d_loss: 2.167894], [ Generator :: loss: 3.347081]\n",
      "epoch: 20, [Discriminator :: d_loss: 1.390174], [ Generator :: loss: 2.994824]\n",
      "epoch: 30, [Discriminator :: d_loss: 1.237680], [ Generator :: loss: 2.372499]\n",
      "epoch: 40, [Discriminator :: d_loss: 1.044398], [ Generator :: loss: 2.270550]\n",
      "epoch: 50, [Discriminator :: d_loss: 0.850779], [ Generator :: loss: 2.206763]\n",
      "epoch: 60, [Discriminator :: d_loss: 0.844986], [ Generator :: loss: 2.424000]\n",
      "epoch: 70, [Discriminator :: d_loss: 0.766514], [ Generator :: loss: 2.385318]\n",
      "epoch: 80, [Discriminator :: d_loss: 0.758683], [ Generator :: loss: 2.269325]\n",
      "epoch: 90, [Discriminator :: d_loss: 0.782993], [ Generator :: loss: 2.313859]\n",
      "epoch: 100, [Discriminator :: d_loss: 0.779236], [ Generator :: loss: 2.246524]\n",
      "epoch: 110, [Discriminator :: d_loss: 0.726200], [ Generator :: loss: 2.132641]\n",
      "epoch: 120, [Discriminator :: d_loss: 0.700680], [ Generator :: loss: 2.192752]\n",
      "epoch: 130, [Discriminator :: d_loss: 0.713809], [ Generator :: loss: 2.069762]\n",
      "epoch: 140, [Discriminator :: d_loss: 0.747849], [ Generator :: loss: 2.222248]\n",
      "epoch: 150, [Discriminator :: d_loss: 0.737095], [ Generator :: loss: 1.982472]\n",
      "epoch: 160, [Discriminator :: d_loss: 0.709882], [ Generator :: loss: 2.055944]\n",
      "epoch: 170, [Discriminator :: d_loss: 0.734231], [ Generator :: loss: 1.925553]\n",
      "epoch: 180, [Discriminator :: d_loss: 0.734371], [ Generator :: loss: 1.906785]\n",
      "epoch: 190, [Discriminator :: d_loss: 0.686505], [ Generator :: loss: 1.920699]\n",
      "epoch: 200, [Discriminator :: d_loss: 0.733752], [ Generator :: loss: 1.920178]\n",
      "epoch: 210, [Discriminator :: d_loss: 0.762284], [ Generator :: loss: 1.726739]\n",
      "epoch: 220, [Discriminator :: d_loss: 0.738500], [ Generator :: loss: 1.732163]\n",
      "epoch: 230, [Discriminator :: d_loss: 0.715123], [ Generator :: loss: 1.747573]\n",
      "epoch: 240, [Discriminator :: d_loss: 0.711150], [ Generator :: loss: 1.658068]\n",
      "epoch: 250, [Discriminator :: d_loss: 0.734816], [ Generator :: loss: 1.661934]\n",
      "epoch: 260, [Discriminator :: d_loss: 0.712055], [ Generator :: loss: 1.707212]\n",
      "epoch: 270, [Discriminator :: d_loss: 0.668308], [ Generator :: loss: 1.522289]\n",
      "epoch: 280, [Discriminator :: d_loss: 0.718110], [ Generator :: loss: 1.573756]\n",
      "epoch: 290, [Discriminator :: d_loss: 0.734928], [ Generator :: loss: 1.598470]\n",
      "epoch: 300, [Discriminator :: d_loss: 0.720657], [ Generator :: loss: 1.542818]\n",
      "epoch: 310, [Discriminator :: d_loss: 0.634313], [ Generator :: loss: 1.418974]\n",
      "epoch: 320, [Discriminator :: d_loss: 0.578807], [ Generator :: loss: 1.580742]\n",
      "epoch: 330, [Discriminator :: d_loss: 0.674324], [ Generator :: loss: 1.741415]\n",
      "epoch: 340, [Discriminator :: d_loss: 0.663364], [ Generator :: loss: 1.405912]\n",
      "epoch: 350, [Discriminator :: d_loss: 0.620550], [ Generator :: loss: 1.548102]\n",
      "epoch: 360, [Discriminator :: d_loss: 0.692847], [ Generator :: loss: 1.470844]\n",
      "epoch: 370, [Discriminator :: d_loss: 0.575426], [ Generator :: loss: 1.338422]\n",
      "epoch: 380, [Discriminator :: d_loss: 0.591529], [ Generator :: loss: 1.637556]\n",
      "epoch: 390, [Discriminator :: d_loss: 0.604983], [ Generator :: loss: 1.461926]\n",
      "epoch: 400, [Discriminator :: d_loss: 0.568334], [ Generator :: loss: 1.579705]\n",
      "epoch: 410, [Discriminator :: d_loss: 0.718761], [ Generator :: loss: 1.589474]\n",
      "epoch: 420, [Discriminator :: d_loss: 0.584926], [ Generator :: loss: 1.466715]\n",
      "epoch: 430, [Discriminator :: d_loss: 0.713102], [ Generator :: loss: 1.625556]\n",
      "epoch: 440, [Discriminator :: d_loss: 0.663574], [ Generator :: loss: 1.543985]\n",
      "epoch: 450, [Discriminator :: d_loss: 0.627357], [ Generator :: loss: 1.515825]\n",
      "epoch: 460, [Discriminator :: d_loss: 0.690193], [ Generator :: loss: 1.506915]\n",
      "epoch: 470, [Discriminator :: d_loss: 0.624753], [ Generator :: loss: 1.622676]\n",
      "epoch: 480, [Discriminator :: d_loss: 0.691387], [ Generator :: loss: 1.530166]\n",
      "epoch: 490, [Discriminator :: d_loss: 0.617741], [ Generator :: loss: 1.316744]\n",
      "epoch: 500, [Discriminator :: d_loss: 0.597512], [ Generator :: loss: 1.351139]\n",
      "epoch: 510, [Discriminator :: d_loss: 0.623367], [ Generator :: loss: 1.258198]\n",
      "epoch: 520, [Discriminator :: d_loss: 0.629311], [ Generator :: loss: 1.402048]\n",
      "epoch: 530, [Discriminator :: d_loss: 0.634455], [ Generator :: loss: 1.467928]\n",
      "epoch: 540, [Discriminator :: d_loss: 0.716816], [ Generator :: loss: 1.486940]\n",
      "epoch: 550, [Discriminator :: d_loss: 0.613027], [ Generator :: loss: 1.436120]\n",
      "epoch: 560, [Discriminator :: d_loss: 0.542823], [ Generator :: loss: 1.234317]\n",
      "epoch: 570, [Discriminator :: d_loss: 0.665912], [ Generator :: loss: 1.467227]\n",
      "epoch: 580, [Discriminator :: d_loss: 0.624548], [ Generator :: loss: 1.521900]\n",
      "epoch: 590, [Discriminator :: d_loss: 0.571858], [ Generator :: loss: 1.406981]\n",
      "epoch: 600, [Discriminator :: d_loss: 0.661429], [ Generator :: loss: 1.306882]\n",
      "epoch: 610, [Discriminator :: d_loss: 0.726337], [ Generator :: loss: 1.424745]\n",
      "epoch: 620, [Discriminator :: d_loss: 0.640891], [ Generator :: loss: 1.417322]\n",
      "epoch: 630, [Discriminator :: d_loss: 0.678060], [ Generator :: loss: 1.504580]\n",
      "epoch: 640, [Discriminator :: d_loss: 0.693111], [ Generator :: loss: 1.385129]\n",
      "epoch: 650, [Discriminator :: d_loss: 0.587134], [ Generator :: loss: 1.412505]\n",
      "epoch: 660, [Discriminator :: d_loss: 0.675540], [ Generator :: loss: 1.426577]\n",
      "epoch: 670, [Discriminator :: d_loss: 0.582622], [ Generator :: loss: 1.418163]\n",
      "epoch: 680, [Discriminator :: d_loss: 0.588375], [ Generator :: loss: 1.512097]\n",
      "epoch: 690, [Discriminator :: d_loss: 0.633095], [ Generator :: loss: 1.221473]\n",
      "epoch: 700, [Discriminator :: d_loss: 0.690571], [ Generator :: loss: 1.288327]\n",
      "epoch: 710, [Discriminator :: d_loss: 0.650418], [ Generator :: loss: 1.248742]\n",
      "epoch: 720, [Discriminator :: d_loss: 0.638598], [ Generator :: loss: 1.407742]\n",
      "epoch: 730, [Discriminator :: d_loss: 0.688867], [ Generator :: loss: 1.326976]\n",
      "epoch: 740, [Discriminator :: d_loss: 0.678123], [ Generator :: loss: 1.401690]\n",
      "epoch: 750, [Discriminator :: d_loss: 0.699442], [ Generator :: loss: 1.339879]\n",
      "epoch: 760, [Discriminator :: d_loss: 0.677863], [ Generator :: loss: 1.282639]\n",
      "epoch: 770, [Discriminator :: d_loss: 0.617465], [ Generator :: loss: 1.365610]\n",
      "epoch: 780, [Discriminator :: d_loss: 0.661491], [ Generator :: loss: 1.332512]\n",
      "epoch: 790, [Discriminator :: d_loss: 0.588446], [ Generator :: loss: 1.308597]\n",
      "epoch: 800, [Discriminator :: d_loss: 0.709531], [ Generator :: loss: 1.251154]\n",
      "epoch: 810, [Discriminator :: d_loss: 0.612020], [ Generator :: loss: 1.292701]\n",
      "epoch: 820, [Discriminator :: d_loss: 0.621770], [ Generator :: loss: 1.128858]\n",
      "epoch: 830, [Discriminator :: d_loss: 0.660793], [ Generator :: loss: 1.384358]\n",
      "epoch: 840, [Discriminator :: d_loss: 0.591961], [ Generator :: loss: 1.310020]\n",
      "epoch: 850, [Discriminator :: d_loss: 0.653887], [ Generator :: loss: 1.353628]\n",
      "epoch: 860, [Discriminator :: d_loss: 0.681226], [ Generator :: loss: 1.376518]\n",
      "epoch: 870, [Discriminator :: d_loss: 0.580817], [ Generator :: loss: 1.073806]\n",
      "epoch: 880, [Discriminator :: d_loss: 0.621918], [ Generator :: loss: 1.186497]\n",
      "epoch: 890, [Discriminator :: d_loss: 0.753518], [ Generator :: loss: 1.299218]\n",
      "epoch: 900, [Discriminator :: d_loss: 0.692339], [ Generator :: loss: 1.238660]\n",
      "epoch: 910, [Discriminator :: d_loss: 0.659066], [ Generator :: loss: 1.177556]\n",
      "epoch: 920, [Discriminator :: d_loss: 0.718376], [ Generator :: loss: 1.110253]\n",
      "epoch: 930, [Discriminator :: d_loss: 0.656409], [ Generator :: loss: 1.181528]\n",
      "epoch: 940, [Discriminator :: d_loss: 0.631007], [ Generator :: loss: 1.154609]\n",
      "epoch: 950, [Discriminator :: d_loss: 0.604288], [ Generator :: loss: 1.014096]\n",
      "epoch: 960, [Discriminator :: d_loss: 0.572342], [ Generator :: loss: 1.159442]\n",
      "epoch: 970, [Discriminator :: d_loss: 0.490238], [ Generator :: loss: 0.846140]\n",
      "epoch: 980, [Discriminator :: d_loss: 0.652560], [ Generator :: loss: 1.136991]\n",
      "epoch: 990, [Discriminator :: d_loss: 0.692204], [ Generator :: loss: 1.154209]\n"
     ]
    }
   ],
   "source": [
    "epochs = 1000\n",
    "batch_size = 64\n",
    "\n",
    "d_loss = 0\n",
    "g_loss = 0\n",
    "for epoch in range(epochs):\n",
    "    \n",
    "    # train discriminator\n",
    "    random_index = np.random.randint(0, X_train.shape[0], batch_size)\n",
    "    legit_images = X_train[random_index]\n",
    "    d_loss += discriminator.train_on_batch([legit_images, to_categorical(y=y_train[random_index],num_classes=10)],\n",
    "                                           to_categorical(y=y_train[random_index],num_classes=20))\n",
    "    \n",
    "\n",
    "    random_index = np.random.randint(0, X_train.shape[0], batch_size)\n",
    "    gen_noise = np.random.normal(0, 1, (random_index.shape[0], 10))\n",
    "    syntetic_images = generator.predict([gen_noise, to_categorical(y=y_train[random_index],num_classes=10)])\n",
    "    d_loss += discriminator.train_on_batch([syntetic_images, to_categorical(y=y_train[random_index],num_classes=10)], \n",
    "                                           to_categorical(y=y_train[random_index]+10,num_classes=20))\n",
    "\n",
    "\n",
    "    # train generator\n",
    "    for i in range(2):\n",
    "        random_index = np.random.randint(0, X_train.shape[0], batch_size)\n",
    "        gen_noise = np.random.normal(0, 1, (random_index.shape[0], 10))\n",
    "        g_loss += gendis.train_on_batch([gen_noise, to_categorical(y=y_train[random_index],num_classes=10)],\n",
    "                                        to_categorical(y=y_train[random_index], num_classes=20))\n",
    "\n",
    "    if epoch % 10 == 0:\n",
    "        print ('epoch: %d, [Discriminator :: d_loss: %f], [ Generator :: loss: %f]' % (epoch, d_loss/20, g_loss/20))\n",
    "        d_loss = 0\n",
    "        g_loss = 0"
   ]
  },
  {
   "cell_type": "code",
   "execution_count": 20,
   "metadata": {},
   "outputs": [
    {
     "data": {
      "image/png": "[encoded data removed]",
      "text/plain": [
       "<Figure size 720x360 with 10 Axes>"
      ]
     },
     "metadata": {
      "needs_background": "light"
     },
     "output_type": "display_data"
    }
   ],
   "source": [
    "control = np.arange(10)\n",
    "gen_noise = np.random.normal(0, 1, (control.shape[0], 10))\n",
    "pr = generator.predict([gen_noise, to_categorical(y=control, num_classes=10)])\n",
    "random_index\n",
    "\n",
    "plt.figure(figsize=(10, 5))\n",
    "\n",
    "\n",
    "for i in range(10):\n",
    "    plt.subplot(2, 5, i+1)\n",
    "    plt.imshow(pr[i, :, :, 0])\n",
    "plt.savefig('digits.png')"
   ]
  },
  {
   "cell_type": "code",
   "execution_count": 12,
   "metadata": {},
   "outputs": [],
   "source": [
    "generator.save('generator.h5')"
   ]
  },
  {
   "cell_type": "code",
   "execution_count": null,
   "metadata": {},
   "outputs": [],
   "source": []
  }
 ],
 "metadata": {
  "kernelspec": {
   "display_name": "Python 3",
   "language": "python",
   "name": "python3"
  },
  "language_info": {
   "codemirror_mode": {
    "name": "ipython",
    "version": 3
   },
   "file_extension": ".py",
   "mimetype": "text/x-python",
   "name": "python",
   "nbconvert_exporter": "python",
   "pygments_lexer": "ipython3",
   "version": "3.5.2"
  }
 },
 "nbformat": 4,
 "nbformat_minor": 2
}
