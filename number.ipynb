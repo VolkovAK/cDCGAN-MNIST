{
 "cells": [
  {
   "cell_type": "code",
   "execution_count": 1,
   "metadata": {},
   "outputs": [
    {
     "name": "stderr",
     "output_type": "stream",
     "text": [
      "Using TensorFlow backend.\n"
     ]
    }
   ],
   "source": [
    "import numpy as np\n",
    "from keras.models import load_model\n",
    "from keras.utils import to_categorical\n",
    "import matplotlib.pyplot as plt\n",
    "import re\n"
   ]
  },
  {
   "cell_type": "code",
   "execution_count": 2,
   "metadata": {},
   "outputs": [
    {
     "name": "stdout",
     "output_type": "stream",
     "text": [
      "{0: 26, 1: 37, 2: 25, 3: 12, 4: 5, 5: 4, 6: 17, 7: 6, 8: 1, 9: 3}\n",
      "[(1, 37), (0, 26), (2, 25), (6, 17), (3, 12), (7, 6), (4, 5), (5, 4), (9, 3), (8, 1)]\n",
      "1\n"
     ]
    }
   ],
   "source": [
    "try:\n",
    "    with open('text.txt', 'r', encoding='utf-8') as file:\n",
    "        text = file.read()\n",
    "except:\n",
    "    print('no file found, take default text')\n",
    "    text = '0213asfgafug4235u25uk'\n",
    "\n",
    "digits = re.findall('[0-9]', text)\n",
    "dig_counter = dict()\n",
    "for i in range(10):\n",
    "    dig_counter[i] = digits.count(str(i))\n",
    "\n",
    "print(dig_counter)\n",
    "\n",
    "dig_counter_sorted = sorted(dig_counter.items(), key=lambda kv: kv[1], reverse=True)\n",
    "print(dig_counter_sorted)\n",
    "most_popular_int = dig_counter_sorted[0][0]\n",
    "print(most_popular_int)"
   ]
  },
  {
   "cell_type": "code",
   "execution_count": 3,
   "metadata": {},
   "outputs": [
    {
     "data": {
      "text/plain": [
       "<matplotlib.image.AxesImage at 0x7f4c4041f748>"
      ]
     },
     "execution_count": 3,
     "metadata": {},
     "output_type": "execute_result"
    },
    {
     "data": {
      "image/png": "[encoded data removed]",
      "text/plain": [
       "<Figure size 432x288 with 1 Axes>"
      ]
     },
     "metadata": {
      "needs_background": "light"
     },
     "output_type": "display_data"
    }
   ],
   "source": [
    "generator = load_model('generator.h5')\n",
    "noise = np.random.normal(0, 1, (1, 10))\n",
    "image = generator.predict(x=[noise, to_categorical(np.array([most_popular_int], dtype=np.int32), num_classes=10)])\n",
    "\n",
    "plt.imshow(image[0,:,:,0])"
   ]
  },
  {
   "cell_type": "code",
   "execution_count": null,
   "metadata": {},
   "outputs": [],
   "source": []
  }
 ],
 "metadata": {
  "kernelspec": {
   "display_name": "Python 3",
   "language": "python",
   "name": "python3"
  },
  "language_info": {
   "codemirror_mode": {
    "name": "ipython",
    "version": 3
   },
   "file_extension": ".py",
   "mimetype": "text/x-python",
   "name": "python",
   "nbconvert_exporter": "python",
   "pygments_lexer": "ipython3",
   "version": "3.5.2"
  }
 },
 "nbformat": 4,
 "nbformat_minor": 2
}
